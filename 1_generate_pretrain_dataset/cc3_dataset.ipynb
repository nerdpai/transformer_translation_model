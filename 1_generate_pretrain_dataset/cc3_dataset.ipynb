{
  "nbformat": 4,
  "nbformat_minor": 0,
  "metadata": {
    "colab": {
      "provenance": []
    },
    "kernelspec": {
      "name": "python3",
      "display_name": "Python 3"
    },
    "language_info": {
      "name": "python"
    }
  },
  "cells": [
    {
      "cell_type": "markdown",
      "source": [
        "https://github.com/facebookresearch/cc_net"
      ],
      "metadata": {
        "id": "D9OU3r3_hg-G"
      }
    },
    {
      "cell_type": "markdown",
      "source": [
        "https://commoncrawl.org/blog/april-2019-crawl-archive-now-available"
      ],
      "metadata": {
        "id": "FG8w9vXin22t"
      }
    },
    {
      "cell_type": "code",
      "execution_count": null,
      "metadata": {
        "colab": {
          "base_uri": "https://localhost:8080/"
        },
        "id": "fBKuG5O_zhyx",
        "outputId": "586b140e-5400-4c27-a579-79ebe52329ed"
      },
      "outputs": [
        {
          "output_type": "stream",
          "name": "stdout",
          "text": [
            "Cloning into 'cc_net'...\n",
            "remote: Enumerating objects: 551, done.\u001b[K\n",
            "remote: Counting objects: 100% (137/137), done.\u001b[K\n",
            "remote: Compressing objects: 100% (25/25), done.\u001b[K\n",
            "remote: Total 551 (delta 124), reused 116 (delta 112), pack-reused 414\u001b[K\n",
            "Receiving objects: 100% (551/551), 288.12 KiB | 8.73 MiB/s, done.\n",
            "Resolving deltas: 100% (382/382), done.\n"
          ]
        }
      ],
      "source": [
        "!git clone https://github.com/facebookresearch/cc_net"
      ]
    },
    {
      "cell_type": "code",
      "source": [
        "FILE_PATH = \"/content/cc_net/cc_net/process_wet_file.py\"\n",
        "\n",
        "OLD_LINE = 'WET_URL_ROOT = \"https://commoncrawl.s3.amazonaws.com\"'\n",
        "\n",
        "NEW_LINE = 'WET_URL_ROOT = \"https://data.commoncrawl.org\"'\n",
        "\n",
        "with open(FILE_PATH, 'r') as file:\n",
        "    lines = file.readlines()\n",
        "\n",
        "lines = [NEW_LINE if line.strip() == OLD_LINE else line for line in lines]\n",
        "\n",
        "with open(FILE_PATH, 'w') as file:\n",
        "    file.writelines(lines)"
      ],
      "metadata": {
        "id": "zIayufzNWH7i"
      },
      "execution_count": null,
      "outputs": []
    },
    {
      "cell_type": "code",
      "source": [
        "!make -C ./cc_net/ install &> /dev/null"
      ],
      "metadata": {
        "id": "JL0qyd6t0Z1i"
      },
      "execution_count": null,
      "outputs": []
    },
    {
      "cell_type": "code",
      "source": [
        "!make -C ./cc_net/ lang=de dl_lm &> /dev/null"
      ],
      "metadata": {
        "id": "j1mno9ndMCHY"
      },
      "execution_count": null,
      "outputs": []
    },
    {
      "cell_type": "code",
      "source": [
        "!make -C ./cc_net/ lang=en dl_lm &> /dev/null"
      ],
      "metadata": {
        "id": "gZufhw6LaqTj"
      },
      "execution_count": null,
      "outputs": []
    },
    {
      "cell_type": "code",
      "source": [
        "!make -C ./cc_net/ lang=fr dl_lm &> /dev/null"
      ],
      "metadata": {
        "id": "e6A1eLeQaqoq"
      },
      "execution_count": null,
      "outputs": []
    },
    {
      "cell_type": "code",
      "source": [
        "!mv ./cc_net/data ./data"
      ],
      "metadata": {
        "id": "sAfZE6tSbXyS"
      },
      "execution_count": null,
      "outputs": []
    },
    {
      "cell_type": "markdown",
      "source": [
        "check does you can don't use 4 lines above"
      ],
      "metadata": {
        "id": "OtdtGa1wngTV"
      }
    },
    {
      "cell_type": "code",
      "source": [
        "!mv ./cc_net/bin ./bin/"
      ],
      "metadata": {
        "id": "KzJEbkfsi677"
      },
      "execution_count": null,
      "outputs": []
    },
    {
      "cell_type": "code",
      "source": [
        "import json\n",
        "\n",
        "data = {\n",
        "    \"hash_in_mem\": 50,\n",
        "    \"dump\": \"2019-09\", #like in paper\n",
        "    \"num_shards\": 100,\n",
        "    \"lang_whitelist\": [\"de\", \"en\", \"fr\"],\n",
        "    \"num_segments_per_shard\": 7,\n",
        "    \"mine_num_processes\": 64,\n",
        "    \"pipeline\": [\n",
        "        \"dedup\", # deduplicate\n",
        "        \"lid\", # find a lid language\n",
        "        \"keep_lang\", # save only lang specified in whitelist\n",
        "        #\"sp\", # tokenize\n",
        "        \"lm\", # get a score of how good the text is\n",
        "        \"pp_bucket\", # save data for text good adjust\n",
        "        \"drop\",\n",
        "        \"split_by_lang\"\n",
        "    ],\n",
        "    \"keep_bucket\": [\n",
        "      \"head\"\n",
        "    ],\n",
        "    \"lang_threshold\": 0.7,\n",
        "    \"min_len\": 200,\n",
        "    \"execution\": \"debug\",\n",
        "    \"target_size\": \"8G\",\n",
        "    \"output_dir\": \"data\",\n",
        "    \"mined_dir\": \"mined_langs\",\n",
        "    \"cache_dir\": \"data/wet_cache\",\n",
        "    \"lm_dir\": \"data/lm_sp\"\n",
        "}\n",
        "\n",
        "with open(\"config.json\", \"w\") as json_file:\n",
        "    json.dump(data, json_file, indent=2)"
      ],
      "metadata": {
        "id": "OjjPuujqXLT7"
      },
      "execution_count": null,
      "outputs": []
    },
    {
      "cell_type": "code",
      "source": [
        "!python -m cc_net --config ./config.json"
      ],
      "metadata": {
        "id": "52MJLndY7Ocy"
      },
      "execution_count": null,
      "outputs": []
    },
    {
      "cell_type": "code",
      "source": [
        "!zip -r ./lang_split.zip ./data/mined_langs"
      ],
      "metadata": {
        "colab": {
          "base_uri": "https://localhost:8080/"
        },
        "id": "jBruKxSdTUyN",
        "outputId": "d9022e06-68ae-4a30-9b2f-e7ab7b2fa298"
      },
      "execution_count": null,
      "outputs": [
        {
          "output_type": "stream",
          "name": "stdout",
          "text": [
            "  adding: data/mined_langs/ (stored 0%)\n",
            "  adding: data/mined_langs/2019-09/ (stored 0%)\n",
            "  adding: data/mined_langs/2019-09/en_all_0000.json.gz (deflated 0%)\n",
            "  adding: data/mined_langs/2019-09/fr_all_0000.json.gz (deflated 0%)\n",
            "  adding: data/mined_langs/2019-09/de_all_0000.json.gz.index (deflated 37%)\n",
            "  adding: data/mined_langs/2019-09/fr_all_0000.json.gz.index (deflated 37%)\n",
            "  adding: data/mined_langs/2019-09/de_all_0000.json.gz (deflated 0%)\n",
            "  adding: data/mined_langs/2019-09/en_all_0000.json.gz.index (deflated 34%)\n"
          ]
        }
      ]
    },
    {
      "cell_type": "code",
      "source": [
        "!zcat /content/data/mined_langs/2019-09/de_all_0000.json.gz | head -10"
      ],
      "metadata": {
        "colab": {
          "base_uri": "https://localhost:8080/"
        },
        "id": "vZwzOl-N6ihV",
        "outputId": "a37561f0-7935-4f95-99ca-23eafee8e9df"
      },
      "execution_count": null,
      "outputs": [
        {
          "output_type": "stream",
          "name": "stdout",
          "text": [
            "{\"url\": \"http://0381-magazin.de/rostock/magazin/index/id/2\", \"date_download\": \"2019-02-15T18:39:43Z\", \"digest\": \"sha1:AH5XT2UXMN26SKJ4VR3F7LK5WUY3ULQK\", \"length\": 12479, \"nlines\": 350, \"source_domain\": \"0381-magazin.de\", \"title\": \"Rostock - 0381-Magazin - Veranstaltungen | Party | Konzerte | Partybilder | Partyfotos | Clubs | Kultur\", \"raw_content\": \"16. Eiswelt bei Karls\\nGrößter im Nordosten – Der Rostocker Weihnachtsmarkt\\nMaritime Meile mit buntem Programm und Drachenfest\\nHanse Sail mit Familienprogramm\\nNeues Elektro-Fahrzeug unterstützt Strandreinigung in Warnemünde\\n20 JAHRE RISSE. ZEITSCHRIFT FÜR LITERATUR IN M-V\\n17. EURAWASSER Warnowschwimmen\\nFünf Projekte für den ENGAGEMENTPREIS 2018 ausgewählt\\nWie soll Dein Rostock wachsen?\\nMit MS FICHTE zur See (1 Kommentar)\\nDock Inn gewinnt Deutschen Tourismuspreis 2017\\nHEILIGENDAMM ON ICE\\nCo-Working für neue Ideen\\nDer Film \\\"WILDES HERZ\\\" von Charly Hübner gewinnt vier Preise\\nRostocker Clubs erneut für Konzertprogramm ausgezeichnet\\nFestkomitee zum Rostocker Doppeljubiläum gegründet\\n„Wat up Platt“\\nPlatt‘n Fisch‘n #2\\nDas Traditionsschiff – Fakten zum Bürgerentscheid\\nmacht & pracht\\nDas Warnow Valley Openair\\nParkhaus am Molenfeuer\\nDie Jubiläumsuni zeigt Gesicht(er)\\n11. LichtKlangNacht am 18. und 19. August 2017\\nDEMONSTRIERE LAUT! WÄHLE KLUG!\\nKTV Fest 2017\\nPfingsten zu „KunstOffen“ nach M-V\\nDeutschlandachter holt EM-Titel mit Rostocker Schlagmann Hannes Ocik\\nRegiopolregion Rostock\\nWarnow-Tour\\nNeue Flugverbindungen von Wien und Zürich nach Rostock-Laage\\nMolli sucht kleine Osterkünstler\\nWas modisch spannend wird …\\nMäck & Pomm – Das Kinder- und Familienprogramm\\n„Sedov“ als 100. Schiff zur 27. Hanse Sail angemeldet\\nWarnemünder Wintervergnügen 2017\\nLeuchtturm in der Wissenschafts-Landschaft\\n100 Uni-Absolventen gesucht\\nMIND-SET-AWARD 2017\\nAm Neujahrstag zur Kunstauktion\\nBÖLL-Montagskino im li.wu. ab 30. Januar\\n800. Stadtgeburtstag – \\\"Sing Deinen Song für Rostock\\\"\\nEin \\\"Überflieger\\\" für das Jubiläum\\nSanta Line ist wieder da – Weihnachtsreise nach Göteborg\\nWeihnachten unterm Sternenzelt\\nLogo für Rostocker Doppeljubiläum gefunden\\nDrachenfeste an der Küste\\nJubiläum: 130 Jahre Molli\\nSmartphone am Strand?\\nDer erste Strandkorb mit echtem Gletscherpanorama\\nLust, wieder mal was mit den Händen zu schaffen?\\n0381 Beef Briskett Challenge – Grillen mit Stefan Pistol\\nLaut.Fett.Bunt\\nRostock-Lichtenhagen 1992 – Die Zukunft der Erinnerung\\nZirkustage im PFZ\\nSport vor Ostseekulisse\\nVorstudium an der Kunst.Schule.Rostock\\nWasserwacht des DRK startklar für neue Saison\\n50 Jahre Hansa – Der Hansa-Tag für Groß und Klein!\\nGlobal Marijuana March in Rostock\\nDie Erdbeeren sind los\\nKunst:Offen\\nKunsthandwerkermarkt\\nDer Ponyhof wird 5\\nNeue Programmleitung im Literaturhaus\\n0381-MAGAZIN-Autor veröffentlicht Buch\\nROSTOCK-SHOPS steigen bei ONELOVE ein\\nBUNTE OSTERN\\nKarneval in Rostock\\n600 Euro für ein Kunstprojekt?\\nTipps für die (Vor)Weihnachtszeit\\n1965/2015 Biennale der Ostseeländer\\nFeuerwerk der Genüsse – Gipfeltreffen der Gourmets\\nKultur trifft Genuss\\nStephan-Jantzen-Tage in Warnemünde\\nTag der Offenen Moschee\\nFaire Woche\\nZWISCHEN DEN GASSEN\\nDie ILLUSTRADE\\nZum Schwedenfest nach Wismar\\nTAFELN IN WEISS\\nDie Segel-Bundesliga\\n\\\"DIE ROSTOCKER\\\" GRILLGUT-KONTROLLE\\nKunst Offen\\nSchiffbruch für die Wahrheit\\nSchluss mit Supershirt\\nNachgefragt beim KOMMT ZUSAMMEN\\nWeinwirtschaft sucht dich\\nMode Dinner 2015\\nrostock rockt hilft helfen\\nSUPPENKÜCHE IN NOT\\nGroßes Heringsbraten auf Norddeutschlands größtem Marktplatz\\nRostock Rockt – Video drehen und 4 Backstagepässe gewinnen!\\nEin Baby auf der Bärenburg!\\nzum sternenzelt\\nMillionen-Betrüger Eppy Geers in flagranti erwischt! (4 Kommentare)\\nHoliday on Ice – Neue Show PASSION\\n\\\"Schwebende\\\" fliegt ins British Museum in London\\nLANGE NACHT DER MUSEEN – Mehr Zeit für Rostocks Schätze\\nDance Fashion Show XV\\n17. JOBFACTORY\\nFrischer Wind in den Altstädter Stuben\\nBIO ERLEBEN in Warnemünde\\nNeu und schon fast wieder weg: das Hanse Sail T-Shirt 2014 von Rostocker\\n12. hella marathon nacht\\nRussia come out! Lass Liebe leben – Der 12. CSD in Rostock\\nRostock feiert 200. Geburtstag von John Brinckman\\n77. WARNEMÜNDER WOCHE – Action, Spaß, Sport und Tradition\\n25 Jahre Zappanale – WE ARE THE OTHER PEOPLE\\nEinfach zum Lebensretter werden\\nSpitzenkoch Tillmann Hahn eröffnet Gasthaus in Kühlungsborn\\nRostocks Kultur-WG FRIEDA 23 ist eingezogen!\\n25 Jahre Zappanale\\nNeuer kulinarischer Hotspot an der Ostsee\\nNachhaltigkeitswoche an der Uni Rostock\\nMein Rostock, mein Hafen & mein Regal\\nMode Dinner\\nBob Dylan in Rostock\\nKUDDELMUDDEL UMS TRADI\\nWLAN-Hotspots jetzt online\\nANMELDUNG ZUM BUNDESWETTBEWERB JUNGER FILM\\nGrößter Weihnachtsmarkt Norddeutschlands in Rostock\\nSturm des Wissens – Premiere der Science Soap\\nWeihnachts-Ponyhof\\nVon Wegen und Zielen\\n3.500 Studienstarter in Rostock\\nStubnitz und Seemannsklub gewinnen Spielstättenpreis\\nStoffwechsel Second-Hand-Markt\\nWIR LADEN ZUM SOMMERFEST MIT SHOPPING\\nDas Pangea Festival – Ein riesiger Abenteuerspielplatz\\nDu bist nur vorgegangen …\\nFeiern wie bei den Bayern\\nUniversität Rostock eine der Schönsten der Welt\\nRadeln für den guten Zweck! (1 Kommentar)\\nDie Zappanale und das \\\"Fisch-Ding\\\"\\nCSD-Monat Juli\\nStörtebeker Festspiele (1 Kommentar)\\nRepublikflucht? Auf Zum Pangea Festival!\\nKörperwelten – Eine Herzenssache (1 Kommentar)\\nbüchnerverbrennung\\nMit Nadel und Faden in den Zirkusladen\\nunkompliziert helfen\\nRostock feiert ROSTOCKER\\nRichtfest für das neue JAZ\\nKÖRPERWELTEN in Rostock\\nSternekoch-Treffen in Heiligendamm\\n\\\"Alois Nebel – Leben nach Fahrplan\\\"\\n\\\"Koora\\\" junger Kurzfilm des Jahres beim FiSH\\nMau als \\\"Club des Jahres\\\" nominiert\\nROSSINI FÜR FREUNDE DER KAMMERMUSIK\\nMusiker gesucht! (1 Kommentar)\\nDer Rostock Rockt Nachwuchsförderpreis 2013\\nOstermarkt in der Nikolaikirche\\nDas Rostock Rockt Musikfestival 2013\\nSpendenaktion für syrische Studierende an der Universität Rostock\\nNeues von der \\\"Büchner\\\"\\nEsoterik- und Naturheiltage\\nRostocker Kunstpreis 2012 geht an Iris Thürmer\\nGastronomie der Spitzenklasse\\nHeiligendamm – 18 Points\\nphanTECHNIKUM – Neues Erlebniszentrum in Wismar\\nWeihnachtlicher Kunsthandwerkermarkt in der Nikolaikirche\\nDie Yachthafenresidenz Hohe Düne stellt neuen Küchenchef vor:\\nMV1 – Erstes landesweites Privatfernsehen\\nBaumesse Mecklenburg-Vorpommern\\nMartinsmarkt in der Rostocker Nikolaikirche\\nKnusper, Knusper Häuschen …\\n6. Bad Doberaner Kulturnacht (1 Kommentar)\\nSpielzeitbeginn im Schweriner Staatstheater\\n15. Jobfactory in Rostock\\nRostock wird Fairtrade-Stadt\\nDie Ostsee-Rad-Klassik\\nCycle-Chic-Bilder für ADFC-Kalender gesucht\\nParking Day\\nCampusOpenAir Wismar 2012\\nBIOerleben M-V\\nWeb-Serie \\\"Bravo 5\\\" aus Rostock online\\nFête de la musique in Rostock\\nACTIVE BEACH in WARNEMÜNDE\\nFür Krimifans: \\\"SOKO\\\"-Führung durch Wismar (1 Kommentar)\\n20. Pittiplatsch-Turnier\\nSparkassen Fairplay Soccer Tour 2012\\nMit dem Fahrrad durch den Frühling\\nROSTOCKER BÜRGER SOLLEN MITREDEN\\nDie \\\"Fête de la Musique\\\"\\nHeringszeit an der Ostseeküste\\nPolizeiruf 110 aus Rostock: \\\"Einer trage des anderen Last\\\"\\nDas Darwineum wächst\\nRostock auf dem IPhone (1 Kommentar)\\nNachwuchsmusiker gesucht\\nBesondere Weihnachtsmärkte in MV (1 Kommentar)\\n(Vor)Weihnachtszeit in Karls Erlebnisdorf\\nGewinner des 1. Fotowettbewerbs\\nWeltmeister Philip Köster gewinnt die \\\"Supremesurf Big Days\\\"\\nLichtwoche 2011\\nTherapieren studieren im hohen Norden\\nMartinsumzug am 11.11.2011 in Warnemünde\\nWeihnachtsmarkt in der Nikolaikirche\\nKempowski-Tage 2011 in Rostock\\nZwei Tagungshotels in Mecklenburg-Vorpommern führend in Deutschland\\nZum Schlösserherbst nach M-V\\nSaisonausklang mit dem Warnemünder Stromfest (1 Kommentar)\\nXII. Dance fashion show\\nTherapieren studieren!\\nKulturpolitische Leitlinien auf dem Weg\\nKunsthalle Rostock eröffnet \\\"Kunst Zeit Raum\\\"\\nCSD in Rostock: Gleiche Liebe – Gleiche Rechte!?\\n20. Geburtstag der Compagnie de Comédie\\nNeue Gesichter am Volkstheater Rostock\\nRunterkommen!\\nKinder, die Ferien können kommen!\\nFête de la Musique – Ein Musikfest kommt nach Rostock\\nCycling for Libraries\\nLadyfest 2011\\nKunsthandwerkermarkt am Leuchtturm\\nDER KIEZ FEIERT SICH\\nNuevo Sol Festival\\nBANDS AUF DEM WEG NACH NEW YORK!\\nSEAROCK FESTIVAL – 5 TAGE CAMPEN, 2 TAGE FESTIVAL\\nLange Nacht der Wissenschaft\\nMotorradtreffen in Malchin\\nMit der \\\"Lok of Love\\\" in den Frühling rauschen\\n\\\"Yuri's Night Rostock\\\" feiert Jubiläum\\nKOMMT ZUSAMMEN (1 Kommentar)\\nKabelsalat Wismar 2011\\n2. Warnemünder Wintervergnügen\\n\\\"Feindbild\\\" – Der Polizeiruf aus Rostock geht in eine neue Runde\\nImmer einen Sprung ANDERS! (4 Kommentare)\\nKöstritzer Echolot (1 Kommentar)\\n\\\"Was man wegwirft, ist zwar weg, aber immer noch da.\\\" (2 Kommentare)\\nAndreas Raelert wird Vizeweltmeister auf Hawaii (1 Kommentar)\\nEs weihnachtet in der Rostocker Nikolaikirche\\nEin frischer Wind fegt durch Groß Klein\\nMartinsmarkt in der Nikolaikirche Rostock\\nAusschreibung für Künstler-Stipendium\\n100 Jahre Eisenbahn in Kühlungsborn\\nS.O.S auf der Stubnitz (22 Kommentare)\\nTanzen, Tanzen, Tanzen\\n4. Rostocker ELVIS-FESTIVAL (1 Kommentar)\\n\\\"Polizeiruf 110\\\" künftig aus Rostock (10 Kommentare)\\nSPENDENAKTION ZUGUNSTEN DES FC HANSA ROSTOCK (4 Kommentare)\\nKabelsalat in der Hafenstadt – Frische Musikhelden gesucht\\nNeuer Musikwettbewerb ausgelobt: Köstritzer Echolot (3 Kommentare)\\n8. WinterSerenade in der Östlichen Altstadt\\nDie Lange Nacht der Museen\\nModedinner im Silo 4\\nDie Faire Woche\\nDas Rostocker Kneipenfestival Vorstadttreiben\\nNeues ab September im Studentenkeller (1 Kommentar)\\nStarke Männer in Röcken – Die 2. Highlandgames (1 Kommentar)\\nTag der offenen Tür im Volkstheater\\nJan Delay singt „Thriller“ und Rammstein tanzt zu Pet Shop Boys\\n3. Rostocker ELVIS -Festival (5 Kommentare)\\nHaus- und Hoffest in der FRIEDA 23\\nBenefizKONZERT zum SCHAUEN\\nFordere Deine Sinne heraus – Visionäre gesucht\\nNacht der Professoren\\nBlaumachen 09\\nFrühlingsfest in der Rostocker City (1 Kommentar)\\nDie lange Nacht der Wissenschaften 2009\\nMühlenstraßen-Rock in Warnemünde\\n10. Rostocker Stummfilmnacht - Panzerkreuzer Potemkin\\nHochschulinformationstag an der HMT Rostock\\nAusstellung: Eine Leben für den Film. Lotte H. Eisner\\nOrgelnacht von abends bis Mitternacht: Händel - Haydn - Mendelssohn\\n2. Urban Dance Dayz\\nInterview: Marteria beim Bundes Vision Song Contest auf Pro 7 (14 Kommentare)\\nEsoterik- und Naturheiltage. Messe für Körper, Geist und Seele\\nKunst aus Eis im Karls Erlebnis-Dorf Rövershagen\\nMusik, die uns vereint. Eine Begegnung der besonderen Art\\nSchüler werden Forscher\\n5. UNICEF - Spendenlauf\\nFISH 09 SUCHT FÜR DEN BUNDESWEITEN WETTBEWERB JUNGER FILM BEITRÄGE\\nJägermeister Rock:Liga 2009\\nStorch Heinar (4 Kommentare)\\nVergünstigte Übernachtung\\n750 Jahre Schutzbündnis DER HANSESTÄDTE LÜBECK - WISMAR - Rostock (1 Kommentar)\\n10, 9, 8 ... 3, 2, 1 ... 2009!!!\\nZweiter Platz\\nWelt-Aids-Tag (1 Kommentar)\\nTillmann Hahns Der Butt – Ein neuer Stern am Michelin-Himmel\\nGeschenkgutschein Aktion\\nNächster Halt Stadion\\nMODEDINNER\\nNeuer Fischmarkt\\nLohro Klubnacht 2008\\nHaus der Freundschaft wird Peter-Weiss-Haus (7 Kommentare)\\nMegamemory-Day in Rostock\\nUrtümlicher Weihnachtsmarkt\\nHAPPY BIRTHDA Y HOL IDAY ON ICE\\nAuf nach McPom\\nFilmfestivalgewinner \\\"Ruhe\\\"\\nKempowskiufer im Rostocker Stadthafen (1 Kommentar)\\nWelt-AIDS-Tag\\nRed Benefiz\\n7. Rostocker Lichtwoche\\nHaarManuFaktur\\nBerlin meets Rostock HipHop Workshop der Extraklasse\\nRostocker Kunstpreis 2008\\nBrücken 2008\\nkInoMaratHon iM aUdiMax\\nHöhenrausch Festival\\nRostock liest Kempowski\\neinNorden neue Spielzeit im Volkstheater\\nNacht der Kulturen\\nHMT Tag der offenen Tür\\nMartinsmarkt in der Nikolaikirche\\nAus und vorbei! Die Ulmenbar ist zu - und weg! (1 Kommentar)\\nCampustag – Wegweiser für Erstsemester\\n0381-Geburtstag\\nNeue Simpsons\\nBesuch vom DFB\\nVorstadttreiben – Das Rostocker Kneipenfestival\\n\\\"Let's Dance\\\" – 2. Rostocker Tanzmesse\\nKiwi Clipstar\\n7. Rostocker Stummfilmnacht (1 Kommentar)\\nUrban Dance Dayz - Tanz mal anders!\\nMultikulturelle Wochen in Rostock\\nzweiter Bio-Restaurantführer\\n? AU(K)TION beendet\\n16. Rostocker FilmFest\\nFitness Vierkampf\\nErste Highlandgames an der Ostsee (5 Kommentare)\\nJACK DANIEL's feiert Geburtstag\\nHören wird unsichtbar - Widex Passion: Lebensfreude pur genießen\\nRekordversuch zum Jubiläum\\nKunsthalle zeigt Ausstellungsprojekt zu Robert Rauschenberg\\n71. Warnemünder Woche\\nRichtig ernähren heißt auch richtig trinken! (2 Kommentare)\\nNeue DJ's braucht das Land\\nroxi-Gründermesse stellt junge Unternehmen vor\\nGenießen & Glücklichsein… Sommerzeit ist Erfrischungszeit!\\nCAMPUS EXPLOSION '08\\nKunststudium geeignet? Designstudium vorbereitet? Fit für Architekturstudium?\\nWAS ist schon ein Jahr\\nMade in Detroit\\nFilm ab! Kinomarathon in der Uni\\nMOVING BALTIC SEA\\nHeiligendamm reloaded\\nDie EWS dreht auf\\nHeiligendamm und 1. Alternativgipfel 2008\\nBringt die Menge zum Rocken und bewerbt euch jetzt!\\nLübzer erfrischt jetzt auch alkoholfrei (3 Kommentare)\\n10. Klassik-Nacht\\nDie Sieger des Wettbewerbs \\\"Der Norden spielt fair!\\\" gekürt\\nFiSH 08\\nMittsommer Remise\\nTheaterprojekt an der Uni-Rostock\\nVersteigerung von Fundsachen\\nGroßes Jubiläumskonzert\", \"cc_segment\": \"crawl-data/CC-MAIN-2019-09/segments/1550247479101.30/wet/CC-MAIN-20190215183319-20190215205319-00000.warc.wet.gz\", \"original_nlines\": 394, \"original_length\": 13646, \"line_ids\": [27, 28, 29, 30, 31, 32, 34, 35, 36, 37, 38, 39, 40, 41, 42, 43, 44, 45, 46, 47, 48, 50, 52, 53, 54, 55, 56, 57, 58, 59, 60, 61, 62, 63, 64, 65, 66, 67, 68, 69, 70, 71, 72, 73, 74, 75, 76, 77, 78, 79, 80, 81, 82, 83, 84, 85, 86, 87, 88, 89, 90, 91, 92, 93, 94, 95, 96, 97, 98, 99, 100, 101, 102, 104, 106, 107, 108, 109, 110, 111, 112, 113, 114, 115, 116, 117, 118, 119, 120, 121, 122, 123, 124, 125, 126, 127, 129, 130, 131, 132, 133, 134, 135, 136, 137, 138, 139, 140, 142, 143, 144, 145, 146, 147, 148, 149, 150, 151, 153, 154, 155, 156, 157, 158, 159, 160, 161, 163, 164, 166, 167, 168, 169, 170, 171, 172, 173, 174, 175, 176, 177, 178, 179, 180, 181, 182, 183, 184, 185, 186, 187, 188, 189, 190, 191, 192, 193, 194, 195, 196, 197, 198, 199, 200, 201, 202, 203, 204, 205, 206, 207, 208, 209, 210, 211, 212, 213, 214, 215, 216, 217, 218, 219, 221, 223, 224, 225, 226, 227, 228, 229, 230, 231, 232, 233, 234, 235, 236, 237, 238, 239, 240, 241, 242, 243, 244, 245, 246, 247, 248, 249, 250, 251, 252, 253, 254, 255, 256, 257, 258, 259, 260, 261, 262, 264, 265, 266, 267, 268, 269, 270, 271, 273, 274, 275, 276, 277, 278, 279, 280, 281, 282, 283, 284, 285, 286, 287, 288, 289, 290, 291, 292, 293, 294, 295, 296, 297, 298, 299, 300, 301, 302, 303, 304, 305, 306, 307, 308, 309, 310, 311, 312, 313, 314, 315, 316, 317, 318, 319, 320, 321, 322, 323, 324, 325, 326, 327, 328, 329, 330, 331, 332, 333, 334, 335, 336, 337, 338, 339, 340, 341, 342, 343, 344, 345, 346, 347, 348, 349, 350, 351, 352, 353, 354, 355, 356, 357, 358, 359, 360, 361, 362, 363, 364, 365, 366, 367, 368, 369, 370, 371, 372, 373, 374, 375, 376, 377, 379, 380, 381, 382, 383, 384, 385, 387, 388, 389, 390, 391, 392], \"language\": \"de\", \"language_score\": 0.94, \"bucket\": \"all\"}\n",
            "{\"url\": \"http://11-d.nu/treasure-mile-casino-spiele/beste-spielothek-in-goorstorf-finden.php\", \"date_download\": \"2019-02-15T19:02:03Z\", \"digest\": \"sha1:7Q6VCJ53EBDXIETLBBQLTCZUS3HQYOAP\", \"length\": 3410, \"nlines\": 8, \"source_domain\": \"11-d.nu\", \"title\": \"Sonderbare Häufung: Drei Brände in Rostock - Polizei sucht Zeugen | 11-d.nu\", \"raw_content\": \"Beste Spielothek in Goorstorf finden\\nPosted on 25.12.2017 25.12.2017 by Kajinris\\nOkt. Neue Reihe 19 Bentwisch Goorstorf. Bei uns sind Ihre Daten und Buchungen sicher. Sie verwenden einen veralteten Internet Explorer, der. März 0 0 Neue Reihe 19 Bentwisch (Goorstorf). Für Ihren Besuch bei Merkur Spielothek GmbH nutzen Sie am besten die anzeigen oder suchen Sie. Dez. Bodden Strüssendorf. ich am besten Frauen finden zum 6 kostenlos ohne Blankenburg sucht gratis montana Strüssendorf Goorstorf. Für unsere jüngeren Gäste gibt es nebenan einen Spielplatz mit Klettergeräten, Schaukeln, Sandkasten, Tischtennisplatte etc. Wie immer Sie Ihren Tag gestalten - abends können können Sie mit der Familie oder Freunden im Garten grillen oder den Sonnenuntergang im gemütlichen Liegestuhl oder an der Gartenbar bei einem Sundowner geniessen. Jetzt kostenlos Urlaubstipps sichern und die besten Angebote zuerst erhalten: Für die Ferienwohnungen und Gästezimmer stehen insgesamt 3 Fernseher zur Verfügung, die bei Bedarf ausgeliehen werden können. Diese Fewo ist die einzige im Denkmal. Sie liegt im Biosphärenreservat Schaalsee in einem ehemaligen Bauernhaus.\\nBeste Spielothek in Goorstorf finden -\\nDie ersten Strasburger haben schon gewählt Otto Reincke: Eine Buchung ist nur mit 2 Tagen Vorlauf möglich! Blitzer-Anhänger hat viele Neubrandenburger schon kalt erwischt Neubrandenburgerin erhebt schwere Vorwürfe gegen Klinikum Festwirt unzufrieden mit Oktoberfest in Neubrandenburg. Fannähe schaffen, Abstiegskampf vermeiden Von Hasenhüttl bis Klinsmann: Mit dem Quad auf Entdeckungstour. Lkw-Oldtimer in Wanzka aus Garage gestohlen. Wegen der Schäden am Fahrzeug war zunächst unklar, wem der Wagen gehört.\\nBeste Spielothek in Goorstorf finden Video\\nROULETTE Taktik Tips und Tricks Merkur Vs Novoline Die vielen kleinen Geschäfte laden zum shoppen ein und die vielseitige Gastronomie bietet schmackhafte Gerichte. Wie immer Sie Ihren Tag gestalten - abends können können Sie mit der Familie oder Freunden im Garten grillen oder den Sonnenuntergang im gemütlichen Liegestuhl oder an der Gartenbar bei einem Sundowner geniessen. Einer dieser Brandherde habe an einer dortigen Sporthalle gelegen. Gäste Erwachsene 1 2 3 4 5 6 7 8 9 Unsere Themenseiten Feuerwehr Polizeiticker. Wir freuen uns auch immer auf aktive Unterstützung bei den Arbeiten auf dem Hof. Liste Galerie Neu Karte. Beste Spielothek in Quasslin finden stehen zwei Stapelbetten bereit. Ein Kinderbett und Hochstuhl stellen wir Ihnen gern zur Verfügung. Der Schlafbereich verfügt über ein Doppelbett x, getrennte Matratzen. Unter der Treppe befindet sich ein Abstellraum, welcher genutzt werden kann. Was tun videobeweis supercup Kippen im Ostsee-Sand? Vorherige Seite 1 2 Nächste Seite. Mehr zum Thema Kochen und Backen. Über eine Treppe erreichen Sie das 1. Drei mal brennt es am Wochenende in Rostock. Mehr zum Thema Reise. Natürlich steht Ihnen hier auch eine Kaffeemaschine zur Verfügung. Die Flammen griffen laut Polizei auf die Isolierung der Gebäudefassade über. Sie möchten gerne einmal einen Einblick in die Arbeit eines Imkers erhalten, kein Problem, wir bieten Ihnen gerne diese Möglichkeit. Babyhochstuhl 30 Spielplatz 24 Babybett 14 Kinderbett 12 Wickelauflage 5 mehr anzeigen. Wir freuen uns auch immer auf aktive Unterstützung bei den Arbeiten auf dem Hof. Die Fenster besitzen Rollläden.\\n0 thoughts on “Beste Spielothek in Goorstorf finden”\", \"cc_segment\": \"crawl-data/CC-MAIN-2019-09/segments/1550247479101.30/wet/CC-MAIN-20190215183319-20190215205319-00000.warc.wet.gz\", \"original_nlines\": 29, \"original_length\": 4072, \"line_ids\": [4, 5, 6, 7, 8, 9, 10, 11], \"language\": \"de\", \"language_score\": 1.0, \"bucket\": \"all\"}\n",
            "{\"url\": \"http://123-website-market.com/portal/391/76/websites-templates/\", \"date_download\": \"2019-02-15T18:38:17Z\", \"digest\": \"sha1:HACUFQHXQJGMZN7R6KEVNMYIT37PDWIF\", \"length\": 840, \"nlines\": 23, \"source_domain\": \"123-website-market.com\", \"title\": \"Worldsoft AG - 123 Website Market\", \"raw_content\": \"Top-Headline\\nFIX-FERTIGE-Websites für das Worldsoft-CMS: bestellen - kopieren - leicht anpassen - fertig!\\nKomplette Internet-Auftritte GRATIS! mehr Infos...\\nWebmaster-Alliance-Logo\\nTop-Center-Links\\nSuchergebnis Ihrer Auswahl – Eintrag am 19.05.2011 – 8204 Klicks\\nVerkaufspreis des Templates: 0.00 €\\nfür Schweizer Kunden berechnen wir 8% MwSt.\\nfür Kunden aus anderen Ländern wird keine MwSt. in Rechnung gestellt (da Online-Lieferung ins Ausland)\\nAlle Templates Alle Templates\\nAuto, Fahrzeug, Transport Auto, Fahrzeug, Transport\\nBauen und Wohnen Bauen und Wohnen\\nDienstleistung, Bildung Dienstleistung, Bildung\\nGastronomie, Tourismus Gastronomie, Tourismus\\nGesundheitswesen Gesundheitswesen\\nHandel Handel\\nHandwerk Handwerk\\nMarketing Marketing\\nNeutral Neutral\\nHauptpunkte\\nLogin automatisch\\nBottomLeft-Links\\nKontakt | Impressum | AGB | Sitemap\", \"cc_segment\": \"crawl-data/CC-MAIN-2019-09/segments/1550247479101.30/wet/CC-MAIN-20190215183319-20190215205319-00000.warc.wet.gz\", \"original_nlines\": 37, \"original_length\": 1085, \"line_ids\": [0, 1, 2, 3, 4, 8, 9, 10, 11, 14, 15, 16, 17, 18, 19, 20, 21, 22, 23, 24, 30, 32, 33], \"language\": \"de\", \"language_score\": 0.94, \"bucket\": \"all\"}\n",
            "{\"url\": \"http://2006-2013.ruprecht.de/no_cache/events-listed-by-year/pageid/74/2006/\", \"date_download\": \"2019-02-15T19:09:13Z\", \"digest\": \"sha1:SIUJZ7YYWIDUXYOJJUQSUBWWIKP44SXM\", \"length\": 726, \"nlines\": 20, \"source_domain\": \"2006-2013.ruprecht.de\", \"title\": \"ruprecht - Heidelberg Studierendenzeitung- Events listed by year\", \"raw_content\": \"Der neueste ruprecht\\nStudileben\\nKlecks & Klang\\nruprecht/Schlagloch-doppelkeks-Jubiläum\\nAm 13.10. feiern wir 25 Jahre ruprecht/Schlagloch und 10 Jahre doppelkeks [...mehr]\\nruprecht auf Facebook\\nUnsere Fan-Seite\\nDer aktuelle ruprecht\\nAusgabe 145 vom 16.07.13:\\nHTML | PDF\\nruprecht vor 10 Jahren\\nAusgabe 85 vom 15.07.03:\\nAndere Studizeitungen\\nruprechts Liste von Studierendenzeitungen im deutschsprachigen Raum\\nruprecht-RSS\\nruprecht-Nachrichten per RSS-Feed\\nStudiLeben 2006\\n14.11: Zwei Stunden hinter Gittern\\nArchiv 2019 | 2018 | 2017 | 2016 | 2015 | 2014 | 2013 | 2012 | 2011 | 2010 | 2009 | 2008 | 2007 | 2006 | 2005 | 2004\\nruprecht · Albert-Ueberle-Str. 3-5 · 69120 Heidelberg · Telefon 06221 / 18 71 310 - 0 · post@ruprecht.de\", \"cc_segment\": \"crawl-data/CC-MAIN-2019-09/segments/1550247479101.30/wet/CC-MAIN-20190215183319-20190215205319-00000.warc.wet.gz\", \"original_nlines\": 38, \"original_length\": 978, \"line_ids\": [1, 11, 17, 20, 21, 22, 23, 24, 25, 26, 27, 28, 30, 31, 32, 33, 34, 35, 36, 37], \"language\": \"de\", \"language_score\": 0.91, \"bucket\": \"all\"}\n",
            "{\"url\": \"http://3a.blogsport.de/2011/12/\", \"date_download\": \"2019-02-15T19:37:29Z\", \"digest\": \"sha1:GPLB7BMAMIVBUTI663X5WKZBEA7BRKM5\", \"length\": 1218, \"nlines\": 4, \"source_domain\": \"3a.blogsport.de\", \"title\": \"Archiv « [3A] * Revolutionäres Bündnis\", \"raw_content\": \"Tausende bei Protest gegen die Kriegskonferenz\\nin Allgemein und Kriegskonfernz 2011\\nMehrere Tausend Menschen haben am Samstag im Vorfeld der Afghanistan-Konferenz in der Bonner Innenstadt gegen den Krieg am Hindukusch demonstriert. Das [3A] * Revolutionäre Bündnis hatte gemeinsam mit der Interventionistischen Linken (IL) und weiteren Gruppen zu einem internationalistischen Block unter dem Motto „Internationale Solidarität gegen imperialistische Kriege und Besatzung!“ aufgerufen, der über Tausend TeilnehmerInnen umfasste und von einem großen Polizeiaufgebot begleitet wurde. Vom Lauti des Blockes hielt auch Said Mahmoud von der afghanischen Solidaritäts-Partei eine Rede. Außerdem gab es einen Audio-Betrag von Mumia Abu Jamal, der extra für die Demo von ihm verfasst wurde. Es wurden während der Demonstration bengalische Fackeln abgebrannt und Farbbeutel auf ein Hoch-Tief-Gebäude sowie auf das Polizeispalier, das den Internationalistischen Block begleitete, geworfen. Der Bundestagsabgeordnete der Grünen Hans-Christian Ströbele konnte seine Rede bei der Abschlusskundgebung wegen Eierwürfen und Sprechchören gegen die grüne Kriegspartei nur mit Verzögerung beginnen.\\nBerichte, Fotos und Videos hier: (mehr…)\", \"cc_segment\": \"crawl-data/CC-MAIN-2019-09/segments/1550247479101.30/wet/CC-MAIN-20190215183319-20190215205319-00000.warc.wet.gz\", \"original_nlines\": 86, \"original_length\": 3038, \"line_ids\": [16, 18, 20, 21], \"language\": \"de\", \"language_score\": 1.0, \"bucket\": \"all\"}\n",
            "{\"url\": \"http://aas18.wegewerk.org/aktuelles/2017/lagebild-antisemitismus-2016-2017-antisemitismus-wird-offener-und-aggressiver-ausgelebt/\", \"date_download\": \"2019-02-15T18:52:41Z\", \"digest\": \"sha1:NCWQZ2OV6FGT5TWZDWRNX5Y7JDWJKZS2\", \"length\": 6776, \"nlines\": 23, \"source_domain\": \"aas18.wegewerk.org\", \"title\": \"Lagebild Antisemitismus 2016/2017: Antisemitismus wird offener und aggressiver ausgelebt ~ Amadeu Antonio Stiftung\", \"raw_content\": \"Lagebild Antisemitismus 2016/2017: Antisemitismus wird offener und aggressiver ausgelebt\\nDie Amadeu Antonio Stiftung hat ihr bundesweites Lagebild zum Antisemitismus 2016/17 vorgelegt. Das Fazit: Keine Gruppierung in Deutschland ist gänzlich frei von Antisemitismus. Antisemitismus wird offener und aggressiver ausgelebt und statt des klassischen Antisemitismus wird der Umweg über „Kritik“ an Israel genommen.\\nDie Amadeu Antonio Stiftung hat ihr Lagebild Antisemitismus 2016/2017 vorgelegt. Daraus lassen sich drei wichtige Erkenntnisse über Antisemitismus in Deutschland ziehen:\\nDie Zustimmung zu klassischen Formen des Antisemitismus nimmt seit Jahren in Deutschland kontinuierlich ab.\\nStattdessen äußern die Deutschen ihren Antisemitismus über Umwege, vielfach in Form von antisemitischen Aussagen mit Israelbezug (israelbezogener Antisemitismus) oder Geschichtsbezug.\\nÖffentlich wahrnehmbare antisemitische Erscheinungen treten wellenförmig auf. Mal sinkt die Zahl antisemitischer Vorfälle, dann steigen sie wieder an. Daraus lässt sich jedoch nicht der Umkehrschluss ziehen, dass Antisemitismus mal ab- und dann wieder zunimmt. Im Gegenteil: Antisemitismus ist in der Gesellschaft jederzeit latent vorhanden und breit mobilisierbar.\\nIn der „Mitte der Gesellschaft“\\nJudenhass aus der demokratischen Mitte wird öffentlich weniger wahrgenommen und diskutiert als Antisemitismus von beispielsweise Rechtsextremen oder in muslimischen Communities. Während laut Studien zu menschenfeindlichen Einstellungen in der Gesellschaft »klassischer« Antisemitismus seit Jahren an Zustimmung verliert, zählt der sogenannte israelbezogene Antisemitismus zu den zentralen Formen des modernen Antisemitismus – auch und gerade in der sogenannten Mitte der Gesellschaft. Diese Form äußert sich häufig indirekt, da allzu offener Antisemitismus vielfach sozial geächtet ist. Der Antisemitismus der demokratischen Mitte tritt meist in Form von Umwegkommunikation zu Tage. Gerade subtile Formen des Antisemitismus stellen eine Gefahr für die demokratischen Werte und das gesellschaftliche Zusammenleben dar, weil sie oft nicht benannt oder bagatellisiert und damit zur Normalität werden.\\nIm Rechtsextremismus & Rechtspopulismus\\nAntisemitismus als Kernideologie der extremen Rechten verbindet Geschichtsrevisionisten, NS-Apologeten, Holocaustleugner mit Anhängern von völkischen Ideologien, Verschwörungstheorien und rechter Esoterik. Antisemitische Ideologiefragmente der extremen Rechten wie die sogenannte „Systemkritik“ sind daher zunehmend anschlussfähig in die breite Bevölkerung.\\nIm rechtspopulistischen Umfeld ist klassischer Antisemitismus um ein Vierfaches höher als im Gesellschaftsdurchschnitt verbreitet. Einer der bestimmenden Faktoren für den Antisemitismus im deutschen Rechtspopulismus ist das Geschichtsbild. Deutschland müsse sich immer noch mit dem Nationalsozialismus auseinander setzen und büße immer noch für die Vergangenheit. Dennoch gibt es auch im rechtspopulistischen Milieu vereinzelte Stimmen mit einem positiven Bezug zu Israel, auch wenn dies nicht konsensfähig ist und die Israelsolidarität zumeist taktisch begründet ist. Das Stichwort: Israel als Bollwerk gegen den Islam.\\nIn muslimisch geprägten Milieus\\nAntisemitismus unter Muslimen hat viele Gesichter: antisemitische Parolen gegen Israel, aber auch direkte judenfeindliche Äußerungen. Es gibt kaum Untersuchungen über Antisemitismus in muslimisch sozialisierten Milieus. Wie der deutsche Rechtsextremismus ist auch der islamische Dschihadismus nicht ohne Antisemitismus denkbar. Antisemitismus ist dem Dschihadismus inhärent, auch wenn die Szene selbst heterogen ist. für die unterschiedlichen Strömungen des Islamismus ist Antisemitismus eine einende Komponente. Dem Islamismus zuzuordnende Strukturen organisieren oder beteiligen sich beispielsweise an Kundgebungen mit antiisraelischer und antisemitischer Stoßrichtung.\\nUnter Geflüchteten\\nAngesichts der steigenden Zahl von Flüchtlingen aus arabischen Ländern in Deutschland wird die Befürchtung lauter, dass damit auch Antisemitismus aus arabischen Gesellschaften (re-)importiert wird. Hauptsächlich dreht sich die Debatte um Flüchtlinge aus Syrien, Irak und Afghanistan, also Ländern, in denen Feindschaft zu Israel besteht und Antisemitismus verbreitet ist. Zivilgesellschaftliche Akteur_innen, Politik und Teile der jüdischen Gemeinschaft in Deutschland zeigen sich besorgt. Wichtig ist es, rassistische Diskriminierungs- und Desintegrationserfahrungen von Menschen mit Fluchterfahrung in der hiesigen Gesellschaft ernst zu nehmen, sie aber nicht als Anlass misszuverstehen, die Auseinandersetzung mit etwaigen von ihnen vertretenen antisemitischen Sichtweisen zu vermeiden.\\nIn der Linken\\nIm linken Milieu wird Antisemitismus unter dem Mäntelchen eigener Wertevorstellungen mit transportiert. Israel wird im Namen von Antirassismus und Antikolonialismus als kolonialer Apartheidstaat tituliert oder in queeren Zusammenhängern wegen seiner liberalen LGBT*IQ-Politik Pinkwashing unterstellt, um von einer „Unterdrückung“ der Palästinenser abzulenken. Dies führt häufig zur Rechtfertigung oder zum »verständnisvollen Überhören« judenfeindlicher Äußerungen im Kontext von Nahostdebatten. Mit dem Rückzug auf die Position, »keine eindeutige Haltung zum Nahostkonflikt« zu haben, vermeiden es viele Linke, Haltung gegen judenfeindliche Statements und Aktionen zu beziehen. Auch deshalb wird Antisemitismus in der Linken selten breit thematisiert und kritisiert.\\nIm ländlichen Raum\\nAntisemitismus im ländlichen Raum wird von der Mitte kaum wahrgenommen und tabuisiert. Hierzu hat die Amadeu Antonio Stiftung ein separates Lagebild am Beispiel Mecklenburg-Vorpommern herausgegeben. In dem Lagebild Antisemitismus Mecklenburg-Vorpommern kommen jüdische Stimmen zu Wort, die ihre Erfahrungen schildern. Diese Berichte zeigen drastisch, dass es aus der nichtjüdischen Bevölkerungsmehrheit kaum Reaktionen auf stattfinden Antisemitismus gibt.\\nDie Lagebilder Antisemitismus 2016/2017 und Antisemitismus in Mecklenburg-Vorpommern beschreiben die verschiedenen Quellen und Milieus des heutigen Antisemitismus. In der deutschen Gesellschaft ist keine Gruppierung gänzlich frei von Antisemitismus. Dies endlich einzugestehen, wäre ein erster Schritt zur Prävention.\\nDie Broschüre steht unter dem Link unten zum Download bereit oder kann gedruckt bei der Amadeu Antonio Stiftung bestellt werden.\\nDas Lagebild Antisemitismus 2016/2017 ist im Rahmen der Aktionswochen gegen Antisemitismus entstanden, die gemeinsam vom Anne Frank Zentrum und der Amadeu Antonio Stiftung organisiert werden. Gefördert wurde die Broschüre durch das Bundesprogramm \\\"Demokratie Leben!\\\" des BFSFJ und dem Anne Frank Zentrum Berlins.\\nLagebild Antisemitismus 2016/17 zum Download (PDF-Dokument)\", \"cc_segment\": \"crawl-data/CC-MAIN-2019-09/segments/1550247479101.30/wet/CC-MAIN-20190215183319-20190215205319-00000.warc.wet.gz\", \"original_nlines\": 102, \"original_length\": 9905, \"line_ids\": [18, 54, 55, 56, 57, 58, 59, 60, 61, 62, 63, 64, 65, 66, 67, 68, 69, 70, 71, 72, 73, 74, 75], \"language\": \"de\", \"language_score\": 0.99, \"bucket\": \"all\"}\n",
            "{\"url\": \"http://abenteuer-literatur.de/index.php/literatur/gedichte/520-kleine-traurigkeiten\", \"date_download\": \"2019-02-15T18:47:54Z\", \"digest\": \"sha1:PPY36FPYBJ3OWLSDPYCMDWMLP2EMBISD\", \"length\": 704, \"nlines\": 34, \"source_domain\": \"abenteuer-literatur.de\", \"title\": \"Kleine Traurigkeiten\", \"raw_content\": \"Info zur Seite\\nBücher unserer Autoren\\nDas eigene Buch verlegen\\nAutorentexte\\nIm Fadenkreuz\\nAuswandergeschichten\\nBergbaugeschichten\\nLebensläufe\\nRuhrpottgeschichten\\nSpirituelle Sichtweisen\\nKleine Traurigkeiten\\ngut verborgen\\nim Getriebe der Geschäftigkeit\\nunter belanglosen Nichtigkeiten.\\nNicht denken,\\nnicht rühren\\nam Vakuum,\\ndas entsteht,\\nwenn Ruhe einkehrt.\\nImmer wieder ausgeliefert\\ndiesem dumpfen Schmerz,\\nder sich einnistet\\nseit das Leben\\nim Alleingang\\ngemeistert werden muss.\\nUngestillter Hunger\\nnach Berührung\\ngeteilter Zweisamkeit.\\nNicht viel\\nwas mein wundes Herz verlangt.\\nAllein das Wissen\\ndu kommst\\nkühlt das Brennen in mir.\\nHaiku Philosophie Portrait Presse Roman Staubaufwirbelung Tattoo Tobias\", \"cc_segment\": \"crawl-data/CC-MAIN-2019-09/segments/1550247479101.30/wet/CC-MAIN-20190215183319-20190215205319-00000.warc.wet.gz\", \"original_nlines\": 107, \"original_length\": 1753, \"line_ids\": [9, 11, 12, 13, 23, 25, 26, 27, 28, 29, 38, 43, 44, 45, 46, 47, 48, 49, 50, 51, 52, 53, 54, 55, 56, 57, 58, 59, 60, 61, 62, 63, 64, 71], \"language\": \"de\", \"language_score\": 0.94, \"bucket\": \"all\"}\n",
            "{\"url\": \"http://adam-tavola.ch/Castello.htm\", \"date_download\": \"2019-02-15T19:03:18Z\", \"digest\": \"sha1:OJSDXCNWHILI5COFFSWZ7CLENHEASDHK\", \"length\": 491, \"nlines\": 10, \"source_domain\": \"adam-tavola.ch\", \"title\": \"Granittische und Gartentische nach Mass\", \"raw_content\": \"Stuhl+Bank\\nGranittisch \\\"Castello\\\"\\nTischgestell mit Granitplatte Basisgrösse Tischpreis\\nEdelstahl rostfrei America Black eckig 100/220 cm Höhe 72 ab Fr. 2'580.-\\nStuhl - Modell Vigo mit Teakarmlehnen, Edelstahl mit Netzgewebe sandfarbig (s.V.)\\nauf Wunsch - andere Grösse, andere Platte, nur Tischgestell\\nStandardmasse für Platte 95/220 100/240 105/260 Mehrpreis siehe Preisliste\\nGrösse nach Mass möglich Mehrpreis auf Anfrage\\nTischuntergestell ab Fr. 1'300.-\\nTischverlängerung nicht erhältlich\", \"cc_segment\": \"crawl-data/CC-MAIN-2019-09/segments/1550247479101.30/wet/CC-MAIN-20190215183319-20190215205319-00000.warc.wet.gz\", \"original_nlines\": 21, \"original_length\": 631, \"line_ids\": [4, 9, 13, 14, 15, 16, 17, 18, 19, 20], \"language\": \"de\", \"language_score\": 0.97, \"bucket\": \"all\"}\n",
            "{\"url\": \"http://adeva.at/faks_detail.asp?id=6\", \"date_download\": \"2019-02-15T19:54:34Z\", \"digest\": \"sha1:WM23I3A644B2ZQOFQL6OXHYOELGQWXHL\", \"length\": 4764, \"nlines\": 22, \"source_domain\": \"adeva.at\", \"title\": \"ADEVA Faksimile-Editionen im Detail\", \"raw_content\": \"Das Lobgedicht auf Robert von Anjou - Luxus-Ausgabe\\nMonumentale Miniaturen in Gold und Silber\\nWien, Österreichische Nationalbibliothek, Cod. Ser. n. 2639, Süditalien, um 1340\\nCODICES SELECTI, Vol. CXIII\\nMit dem um 1340 entstandenen Lobgedicht auf Robert von Anjou, König von Neapel (1278–1343), hütet die Österreichische Nationalbibliothek eines der wichtigsten Zeugnisse der mittelalterlichen Herrschaftsinszenierung und zugleich eines der herausragendsten Beispiele der Buchmalerei des 14. Jahrhunderts.\\nEine Ausstattung, eines Königs würdig\\nInsgesamt 43 großformatige Miniaturen auf 72 Seiten, reich ausgestattet mit ziseliertem Gold und Silber, illustrieren diesen außergewöhnlichen Codex. Die zum Teil ganzseitigen Miniaturen beeindrucken durch das monumentale Format der Handschrift (48,5 x 34,4 cm); 29 Fleuronnée-Initialen und 8 Deckfarben-Initialen auf Goldgrund ergänzen die phantastische Ausstattung.\\nKaleidoskopartig wird nahezu der gesamte mittelalterlich–frühneuzeitliche Bildungskanon ausgebreitet. Somit zeugt die Handschrift vom verschwenderischen intellektuellen und künstlerischen Aufwand, der zur Inszenierung des Königtums von Robert von Anjou betrieben wurde. Einiges spricht dafür, dass Robert selbst die Herstellung der Handschrift veranlasste.\\nDer Inhalt – Programm und Vermächtnis\\nDas Lobgedicht auf Robert von Anjou stellt den König als idealen Herrscher dar, der allein fähig sei, Italien unter seiner Herrschaft zu einigen. Denn Italien ist zerrissen: Robert soll als zukünftiger Herrscher die Verhältnisse seiner Zeit ordnen. Der Verfasser beklagt, dass Italien im Gegensatz zu anderen Staaten keinen König habe; ebenso prangert er die Abwesenheit der Päpste von Rom während ihres „Babylonischen“ Exils in Avignon (1309–1376) an.\\nPrachtvolles Kaleidoskop des 14. Jahrhunderts\\nDer Codex enthält zwei reich bebilderte Teile. Der umfangreichere erste Abschnitt umfasst das Lobgedicht (regia carmina) auf König Robert von Anjou, ein in der damals für Herrscherlob üblichen Art überschwängliches Poem, das den Adressaten als Retter der Kirche und idealen König ganz Italiens feiert.\\n43 goldglänzende Miniaturen\\nDie Miniaturen stellen den „idealen“ Hofstaat Roberts vor: Allegorien Italiens und italienischer Städte sowie Tugenden, die den König als idealen Herrscher preisen. So treten die für ihr Land bittende Italia oder mythologische Gestalten der Antike vor den Thron Roberts. Der König sieht sich selbst als von Gott für seine Aufgabe auserwählt, Italien zu einigen. Entsprechend wird in mehreren großartigen Miniaturen der himmlische Hofstaat dem seinen gegenübergestellt.\\nDer hl. Augustinus als „Zeuge“\\nDer zweite Teil unterstützt die Absicht, den König als den idealen Herrscher darzustellen: mit Zitaten des hl. Augustinus, die auf Robert bezogen sind – über die vier Kardinaltugenden, die christlichen Tugenden sowie Allegorien der freien Künste. Die Darstellungen zeugen vom beeindruckenden Können der beteiligten Buchmaler.\\nRobert von Anjou – Schicksal zwischen königlichem Anspruch und europäischer Realität\\nGeboren 1278, war Robert ein Enkel des großen Karl von Anjou. Seine Kindheit verbrachte er nach einer verlorenen Seeschlacht seines Vaters, Karls II. von Neapel, in Geiselhaft am aragonesischen Hof. 1309 – nach dem Tod Karls II. – wurde Robert König von Neapel und Sizilien. Er erfreute sich der päpstlichen Gunst, da die Päpste – seit 1309 in Avignon – ihn als „ihren“ Mann in Italien sahen, der dem Imperium die Stirn bieten und die Interessen des Papsttums vertreten könnte. So stand er bis zu seinem Tod 1343 in Konflikt mit den deutschen Herrschern, von Kaiser Heinrich VII. bis zu Ludwig dem Bayern, die, der Tradition seit Karl dem Großen folgend, Italien als ihren Besitz ansahen. Politisch war Robert nicht sehr erfolgreich, umso beeindruckender ist dieses Zeugnis seines Anspruchs auf die Einigung Italiens, die erst 500 Jahre später verwirklicht wurde.\\nÜberquellende Farbenfreude: Fleuronnée- und Deckfarben-Initialen\\nDer Text wird durch rote und blaue Schmuckbuchstaben gegliedert, die reich mit Fleuronnée in der jeweiligen Gegenfarbe geschmückt sind. Im zweiten Teil der Handschrift stehen den Fleuronnée-Initialen auch Deckfarben-Initialen mit reichlicher Verwendung von poliertem Blattgold gegenüber. Ihre plastische Modellierung und die strahlende Farbigkeit zeugen von der Kunstfertigkeit der ausführenden Maler.\\nDas Geheimnis um den Autor\\nDer Text muss zwischen 1334 und 1343 entstanden sein. Er gibt auch Hinweise auf den bisher nicht eindeutig identifizierten Autor: Dieser bezeichnet sich als Professor aus Prato, der das Poem gedichtet hat. In der Forschung wird er deshalb mehrheitlich mit Convenevole da Prato (1270/75–1338) gleichgesetzt, der auch Lehrer Francesco Petrarcas (1304–1374) war.\", \"cc_segment\": \"crawl-data/CC-MAIN-2019-09/segments/1550247479101.30/wet/CC-MAIN-20190215183319-20190215205319-00000.warc.wet.gz\", \"original_nlines\": 52, \"original_length\": 5619, \"line_ids\": [14, 15, 16, 17, 21, 22, 23, 24, 25, 26, 27, 28, 29, 30, 31, 32, 33, 34, 35, 36, 37, 38], \"language\": \"de\", \"language_score\": 0.99, \"bucket\": \"all\"}\n",
            "{\"url\": \"http://alex-plattet.com/home.php?lang=de\", \"date_download\": \"2019-02-15T19:34:39Z\", \"digest\": \"sha1:H4GXFOKPMGQVXDRUF6UO4JMTSBSUQO5O\", \"length\": 577, \"nlines\": 10, \"source_domain\": \"alex-plattet.com\", \"title\": \"Alexandre Plattet Nature Photography\", \"raw_content\": \"Home Galerien Presseartikel Lebenslauf Kontakt Links Gästebuch\\nNeue Galerie ABSTRAKT CHILI\\nNeue Galerie REALISTISCHES CHILI\\nAUSSTELLUNG 2010 - GALERIE AGORA IN NEW YORK\\nZufällige Auswahl:\\nNENUPHARS IV\\nStand vom:\\nWillkommen in der Welt mit abstrakten und realistischen Fotographien von Alexandre Plattet.\\n\\\"L'amour et la beauté sont les noms humains de Dieu, les éprouver c'est avoir la sensation du divin\\\" Gabriel Matzneff\\nAlle Bilder sind urheberrechtlich geschützt und Eigentum von Alexandre Plattet. Sie dürfen ohne seine Genehmigung weder kopiert noch veröffentlicht werden.\", \"cc_segment\": \"crawl-data/CC-MAIN-2019-09/segments/1550247479101.30/wet/CC-MAIN-20190215183319-20190215205319-00000.warc.wet.gz\", \"original_nlines\": 13, \"original_length\": 712, \"line_ids\": [0, 2, 3, 4, 6, 7, 8, 10, 11, 12], \"language\": \"de\", \"language_score\": 0.94, \"bucket\": \"all\"}\n"
          ]
        }
      ]
    }
  ]
}